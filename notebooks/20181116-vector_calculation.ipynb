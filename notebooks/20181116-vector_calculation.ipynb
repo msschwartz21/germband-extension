{
 "cells": [
  {
   "cell_type": "code",
   "execution_count": 4,
   "metadata": {},
   "outputs": [],
   "source": [
    "import glob\n",
    "\n",
    "import matlab.engine"
   ]
  },
  {
   "cell_type": "code",
   "execution_count": 5,
   "metadata": {},
   "outputs": [],
   "source": [
    "import tqdm"
   ]
  },
  {
   "cell_type": "markdown",
   "metadata": {},
   "source": [
    "# Grab appropriate file names"
   ]
  },
  {
   "cell_type": "code",
   "execution_count": 16,
   "metadata": {},
   "outputs": [
    {
     "data": {
      "text/plain": [
       "['/Users/morganschwartz/Code/germband-extension/data/20180110_htl_glc-CreateImageSubset-02_sc11_htl_rotate_brt.tif',\n",
       " '/Users/morganschwartz/Code/germband-extension/data/20180108_htl_glc_sc11_mmzm_rotate_brt.tif',\n",
       " '/Users/morganschwartz/Code/germband-extension/data/20180110_htl_glc_sc6_mmzm_rotate_brt.tif',\n",
       " '/Users/morganschwartz/Code/germband-extension/data/20180110_htl_glc_sc15_mmzm_rotate_brt.tif',\n",
       " '/Users/morganschwartz/Code/germband-extension/data/20180110_htl_glc-CreateImageSubset-01_sc10_wt_rotate_brt.tif',\n",
       " '/Users/morganschwartz/Code/germband-extension/data/20180108_htl_glc_sc9_mmzp_rotate_brt.tif',\n",
       " '/Users/morganschwartz/Code/germband-extension/data/20180112_htlglc_tl_sc11_mmzp_rotate_brt.tif',\n",
       " '/Users/morganschwartz/Code/germband-extension/data/20180108_htl_glc_sc2_mmzm_wp_rotate_brt.tif',\n",
       " '/Users/morganschwartz/Code/germband-extension/data/20180110_htl_glc_sc14_mmzp_rotate_brt.tif',\n",
       " '/Users/morganschwartz/Code/germband-extension/data/20180112_htlglc_tl_sc4_resille_rotate_brt.tif',\n",
       " '/Users/morganschwartz/Code/germband-extension/data/20180112_htlglc_tl_sc19_mmzp_rotate_brt.tif']"
      ]
     },
     "execution_count": 16,
     "metadata": {},
     "output_type": "execute_result"
    }
   ],
   "source": [
    "files = glob.glob('/Users/morganschwartz/Code/germband-extension/data/*_rotate_brt.tif')\n",
    "files"
   ]
  },
  {
   "cell_type": "markdown",
   "metadata": {},
   "source": [
    "# Setup matlab environment"
   ]
  },
  {
   "cell_type": "code",
   "execution_count": 7,
   "metadata": {},
   "outputs": [],
   "source": [
    "eng = matlab.engine.start_matlab()"
   ]
  },
  {
   "cell_type": "markdown",
   "metadata": {},
   "source": [
    "Add path that contains matlab script"
   ]
  },
  {
   "cell_type": "code",
   "execution_count": 8,
   "metadata": {},
   "outputs": [],
   "source": [
    "eng.addpath(r'../matlab',nargout=0)"
   ]
  },
  {
   "cell_type": "markdown",
   "metadata": {},
   "source": [
    "# Define parameters"
   ]
  },
  {
   "cell_type": "code",
   "execution_count": 9,
   "metadata": {},
   "outputs": [],
   "source": [
    "BinaryMask = matlab.single([])\n",
    "scale = 0.5\n",
    "dt = 1.0\n",
    "BoxSize = 30\n",
    "BlurSTD = 1.0 # Must be float\n",
    "ArrowSize= 5"
   ]
  },
  {
   "cell_type": "code",
   "execution_count": 14,
   "metadata": {},
   "outputs": [
    {
     "data": {
      "text/plain": [
       "['20180110_htl_glc-CreateImageSubset-02_sc11_htl_rotate_brt',\n",
       " '20180108_htl_glc_sc11_mmzm_rotate_brt',\n",
       " '20180110_htl_glc_sc6_mmzm_rotate_brt',\n",
       " '20180110_htl_glc_sc15_mmzm_rotate_brt',\n",
       " '20180110_htl_glc-CreateImageSubset-01_sc10_wt_rotate_brt',\n",
       " '20180108_htl_glc_sc9_mmzp_rotate_brt',\n",
       " '20180112_htlglc_tl_sc11_mmzp_rotate_brt',\n",
       " '20180108_htl_glc_sc2_mmzm_wp_rotate_brt',\n",
       " '20180110_htl_glc_sc14_mmzp_rotate_brt',\n",
       " '20180112_htlglc_tl_sc4_resille_rotate_brt',\n",
       " '20180112_htlglc_tl_sc19_mmzp_rotate_brt']"
      ]
     },
     "execution_count": 14,
     "metadata": {},
     "output_type": "execute_result"
    }
   ],
   "source": [
    "names = [f.split('/')[-1][:-4] for f in files]\n",
    "names"
   ]
  },
  {
   "cell_type": "markdown",
   "metadata": {},
   "source": [
    "# Run engine for each file"
   ]
  },
  {
   "cell_type": "code",
   "execution_count": 17,
   "metadata": {},
   "outputs": [
    {
     "name": "stdout",
     "output_type": "stream",
     "text": [
      "/Users/morganschwartz/Code/germband-extension/data/20180110_htl_glc-CreateImageSubset-02_sc11_htl_rotate_brt.tif\n",
      "/Users/morganschwartz/Code/germband-extension/data/20180108_htl_glc_sc11_mmzm_rotate_brt.tif\n"
     ]
    },
    {
     "ename": "MatlabExecutionError",
     "evalue": "\n  File /Applications/MATLAB_R2017b.app/toolbox/matlab/audiovideo/@VideoWriter/VideoWriter.m, line 369, in VideoWriter.writeVideo\n\n  File /Users/morganschwartz/Code/germband-extension/matlab/OpticalFlowOutput.m, line 16, in OpticalFlowOutput\nAll 'cdata' fields in FRAMES must be the same size.\n",
     "output_type": "error",
     "traceback": [
      "\u001b[0;31m---------------------------------------------------------------------------\u001b[0m",
      "\u001b[0;31mMatlabExecutionError\u001b[0m                      Traceback (most recent call last)",
      "\u001b[0;32m<ipython-input-17-f199533f4889>\u001b[0m in \u001b[0;36m<module>\u001b[0;34m\u001b[0m\n\u001b[1;32m      1\u001b[0m \u001b[0;32mfor\u001b[0m \u001b[0mf\u001b[0m\u001b[0;34m,\u001b[0m\u001b[0mn\u001b[0m \u001b[0;32min\u001b[0m \u001b[0mzip\u001b[0m\u001b[0;34m(\u001b[0m\u001b[0mfiles\u001b[0m\u001b[0;34m,\u001b[0m\u001b[0mnames\u001b[0m\u001b[0;34m)\u001b[0m\u001b[0;34m:\u001b[0m\u001b[0;34m\u001b[0m\u001b[0m\n\u001b[1;32m      2\u001b[0m \u001b[0;31m#     print(f)\u001b[0m\u001b[0;34m\u001b[0m\u001b[0;34m\u001b[0m\u001b[0m\n\u001b[0;32m----> 3\u001b[0;31m     \u001b[0meng\u001b[0m\u001b[0;34m.\u001b[0m\u001b[0mOpticalFlowOutput\u001b[0m\u001b[0;34m(\u001b[0m\u001b[0mn\u001b[0m\u001b[0;34m,\u001b[0m\u001b[0mf\u001b[0m\u001b[0;34m,\u001b[0m\u001b[0mBinaryMask\u001b[0m\u001b[0;34m,\u001b[0m\u001b[0mBoxSize\u001b[0m\u001b[0;34m,\u001b[0m\u001b[0mBlurSTD\u001b[0m\u001b[0;34m,\u001b[0m\u001b[0mArrowSize\u001b[0m\u001b[0;34m,\u001b[0m\u001b[0mscale\u001b[0m\u001b[0;34m,\u001b[0m\u001b[0mdt\u001b[0m\u001b[0;34m,\u001b[0m\u001b[0mnargout\u001b[0m\u001b[0;34m=\u001b[0m\u001b[0;36m0\u001b[0m\u001b[0;34m)\u001b[0m\u001b[0;34m\u001b[0m\u001b[0m\n\u001b[0m\u001b[1;32m      4\u001b[0m     \u001b[0mprint\u001b[0m\u001b[0;34m(\u001b[0m\u001b[0mf\u001b[0m\u001b[0;34m)\u001b[0m\u001b[0;34m\u001b[0m\u001b[0m\n",
      "\u001b[0;32m~/anaconda3/envs/python36/lib/python3.6/site-packages/matlab/engine/matlabengine.py\u001b[0m in \u001b[0;36m__call__\u001b[0;34m(self, *args, **kwargs)\u001b[0m\n\u001b[1;32m     76\u001b[0m         \u001b[0;32melse\u001b[0m\u001b[0;34m:\u001b[0m\u001b[0;34m\u001b[0m\u001b[0m\n\u001b[1;32m     77\u001b[0m             return FutureResult(self._engine(), future, nargs, _stdout,\n\u001b[0;32m---> 78\u001b[0;31m                                 _stderr, feval=True).result()\n\u001b[0m\u001b[1;32m     79\u001b[0m \u001b[0;34m\u001b[0m\u001b[0m\n\u001b[1;32m     80\u001b[0m     \u001b[0;32mdef\u001b[0m \u001b[0m__validate_engine\u001b[0m\u001b[0;34m(\u001b[0m\u001b[0mself\u001b[0m\u001b[0;34m)\u001b[0m\u001b[0;34m:\u001b[0m\u001b[0;34m\u001b[0m\u001b[0m\n",
      "\u001b[0;32m~/anaconda3/envs/python36/lib/python3.6/site-packages/matlab/engine/futureresult.py\u001b[0m in \u001b[0;36mresult\u001b[0;34m(self, timeout)\u001b[0m\n\u001b[1;32m     66\u001b[0m                 \u001b[0;32mraise\u001b[0m \u001b[0mTypeError\u001b[0m\u001b[0;34m(\u001b[0m\u001b[0mpythonengine\u001b[0m\u001b[0;34m.\u001b[0m\u001b[0mgetMessage\u001b[0m\u001b[0;34m(\u001b[0m\u001b[0;34m'TimeoutCannotBeNegative'\u001b[0m\u001b[0;34m)\u001b[0m\u001b[0;34m)\u001b[0m\u001b[0;34m\u001b[0m\u001b[0m\n\u001b[1;32m     67\u001b[0m \u001b[0;34m\u001b[0m\u001b[0m\n\u001b[0;32m---> 68\u001b[0;31m         \u001b[0;32mreturn\u001b[0m \u001b[0mself\u001b[0m\u001b[0;34m.\u001b[0m\u001b[0m__future\u001b[0m\u001b[0;34m.\u001b[0m\u001b[0mresult\u001b[0m\u001b[0;34m(\u001b[0m\u001b[0mtimeout\u001b[0m\u001b[0;34m)\u001b[0m\u001b[0;34m\u001b[0m\u001b[0m\n\u001b[0m\u001b[1;32m     69\u001b[0m \u001b[0;34m\u001b[0m\u001b[0m\n\u001b[1;32m     70\u001b[0m     \u001b[0;32mdef\u001b[0m \u001b[0mcancel\u001b[0m\u001b[0;34m(\u001b[0m\u001b[0mself\u001b[0m\u001b[0;34m)\u001b[0m\u001b[0;34m:\u001b[0m\u001b[0;34m\u001b[0m\u001b[0m\n",
      "\u001b[0;32m~/anaconda3/envs/python36/lib/python3.6/site-packages/matlab/engine/fevalfuture.py\u001b[0m in \u001b[0;36mresult\u001b[0;34m(self, timeout)\u001b[0m\n\u001b[1;32m     80\u001b[0m                 \u001b[0;32mraise\u001b[0m \u001b[0mTimeoutError\u001b[0m\u001b[0;34m(\u001b[0m\u001b[0mpythonengine\u001b[0m\u001b[0;34m.\u001b[0m\u001b[0mgetMessage\u001b[0m\u001b[0;34m(\u001b[0m\u001b[0;34m'MatlabFunctionTimeout'\u001b[0m\u001b[0;34m)\u001b[0m\u001b[0;34m)\u001b[0m\u001b[0;34m\u001b[0m\u001b[0m\n\u001b[1;32m     81\u001b[0m \u001b[0;34m\u001b[0m\u001b[0m\n\u001b[0;32m---> 82\u001b[0;31m             \u001b[0mself\u001b[0m\u001b[0;34m.\u001b[0m\u001b[0m_result\u001b[0m \u001b[0;34m=\u001b[0m \u001b[0mpythonengine\u001b[0m\u001b[0;34m.\u001b[0m\u001b[0mgetFEvalResult\u001b[0m\u001b[0;34m(\u001b[0m\u001b[0mself\u001b[0m\u001b[0;34m.\u001b[0m\u001b[0m_future\u001b[0m\u001b[0;34m,\u001b[0m\u001b[0mself\u001b[0m\u001b[0;34m.\u001b[0m\u001b[0m_nargout\u001b[0m\u001b[0;34m,\u001b[0m \u001b[0;32mNone\u001b[0m\u001b[0;34m,\u001b[0m \u001b[0mout\u001b[0m\u001b[0;34m=\u001b[0m\u001b[0mself\u001b[0m\u001b[0;34m.\u001b[0m\u001b[0m_out\u001b[0m\u001b[0;34m,\u001b[0m \u001b[0merr\u001b[0m\u001b[0;34m=\u001b[0m\u001b[0mself\u001b[0m\u001b[0;34m.\u001b[0m\u001b[0m_err\u001b[0m\u001b[0;34m)\u001b[0m\u001b[0;34m\u001b[0m\u001b[0m\n\u001b[0m\u001b[1;32m     83\u001b[0m             \u001b[0mself\u001b[0m\u001b[0;34m.\u001b[0m\u001b[0m_retrieved\u001b[0m \u001b[0;34m=\u001b[0m \u001b[0;32mTrue\u001b[0m\u001b[0;34m\u001b[0m\u001b[0m\n\u001b[1;32m     84\u001b[0m             \u001b[0;32mreturn\u001b[0m \u001b[0mself\u001b[0m\u001b[0;34m.\u001b[0m\u001b[0m_result\u001b[0m\u001b[0;34m\u001b[0m\u001b[0m\n",
      "\u001b[0;31mMatlabExecutionError\u001b[0m: \n  File /Applications/MATLAB_R2017b.app/toolbox/matlab/audiovideo/@VideoWriter/VideoWriter.m, line 369, in VideoWriter.writeVideo\n\n  File /Users/morganschwartz/Code/germband-extension/matlab/OpticalFlowOutput.m, line 16, in OpticalFlowOutput\nAll 'cdata' fields in FRAMES must be the same size.\n"
     ]
    }
   ],
   "source": [
    "for f,n in zip(files,names):\n",
    "#     print(f)\n",
    "    eng.OpticalFlowOutput(n,f,BinaryMask,BoxSize,BlurSTD,ArrowSize,scale,dt,nargout=0)\n",
    "    print(f)"
   ]
  },
  {
   "cell_type": "code",
   "execution_count": 19,
   "metadata": {},
   "outputs": [],
   "source": [
    "eng.quit()"
   ]
  }
 ],
 "metadata": {
  "kernelspec": {
   "display_name": "Python [conda env:python36]",
   "language": "python",
   "name": "conda-env-python36-py"
  },
  "language_info": {
   "codemirror_mode": {
    "name": "ipython",
    "version": 3
   },
   "file_extension": ".py",
   "mimetype": "text/x-python",
   "name": "python",
   "nbconvert_exporter": "python",
   "pygments_lexer": "ipython3",
   "version": "3.6.6"
  }
 },
 "nbformat": 4,
 "nbformat_minor": 2
}
