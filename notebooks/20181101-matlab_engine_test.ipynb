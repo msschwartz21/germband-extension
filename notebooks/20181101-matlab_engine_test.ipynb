{
 "cells": [
  {
   "cell_type": "code",
   "execution_count": 2,
   "metadata": {},
   "outputs": [],
   "source": [
    "import matlab.engine"
   ]
  },
  {
   "cell_type": "markdown",
   "metadata": {},
   "source": [
    "# Test functions\n",
    "Code samples taken from https://www.mathworks.com/help/matlab/matlab_external/call-matlab-functions-from-python.html"
   ]
  },
  {
   "cell_type": "code",
   "execution_count": 3,
   "metadata": {},
   "outputs": [],
   "source": [
    "eng = matlab.engine.start_matlab()"
   ]
  },
  {
   "cell_type": "code",
   "execution_count": 4,
   "metadata": {},
   "outputs": [],
   "source": [
    "tf = eng.isprime(37)"
   ]
  },
  {
   "cell_type": "code",
   "execution_count": 5,
   "metadata": {},
   "outputs": [
    {
     "name": "stdout",
     "output_type": "stream",
     "text": [
      "True\n"
     ]
    }
   ],
   "source": [
    "print(tf)"
   ]
  },
  {
   "cell_type": "code",
   "execution_count": 6,
   "metadata": {},
   "outputs": [
    {
     "data": {
      "text/plain": [
       "(20.0, 1.0, -1.0)"
      ]
     },
     "execution_count": 6,
     "metadata": {},
     "output_type": "execute_result"
    }
   ],
   "source": [
    "t = eng.gcd(100.0,80.0,nargout=3)\n",
    "t"
   ]
  },
  {
   "cell_type": "code",
   "execution_count": 7,
   "metadata": {},
   "outputs": [],
   "source": [
    "eng.doc(nargout=0)"
   ]
  },
  {
   "cell_type": "code",
   "execution_count": 11,
   "metadata": {},
   "outputs": [
    {
     "name": "stdout",
     "output_type": "stream",
     "text": [
      "/Users/morganschwartz/Code/germband-extension/notebooks\n"
     ]
    }
   ],
   "source": [
    "cd ../notebooks/"
   ]
  },
  {
   "cell_type": "code",
   "execution_count": 12,
   "metadata": {},
   "outputs": [],
   "source": [
    "eng.triarea(nargout=0)"
   ]
  },
  {
   "cell_type": "markdown",
   "metadata": {},
   "source": [
    "Need to add matlab folder containing scripts to matlab path in order to have the scripts be locatable."
   ]
  },
  {
   "cell_type": "code",
   "execution_count": 13,
   "metadata": {},
   "outputs": [],
   "source": [
    "eng.addpath(r'../matlab',nargout=0)"
   ]
  },
  {
   "cell_type": "code",
   "execution_count": null,
   "metadata": {},
   "outputs": [],
   "source": [
    "eng.triarea(nargout=0)"
   ]
  },
  {
   "cell_type": "markdown",
   "metadata": {},
   "source": [
    "# Test OpticalFlow function\n",
    "\n",
    "[Documentation for OpticalFlow](/Users/morganschwartz/Zotero/storage/5ER2GAAS/mmc1.pdf )"
   ]
  },
  {
   "cell_type": "markdown",
   "metadata": {},
   "source": [
    "## Define parameters"
   ]
  },
  {
   "cell_type": "code",
   "execution_count": 33,
   "metadata": {},
   "outputs": [],
   "source": [
    "MovieName = '/Users/morganschwartz/Code/germband-extension/data/wt_gbe_20180110_mask.tif'\n",
    "BinaryMask = matlab.single([])\n",
    "scale = 0.5\n",
    "dt = 1.0\n",
    "BoxSize = 30\n",
    "BlurSTD = 1.0 # Must be float\n",
    "ArrowSize= 5"
   ]
  },
  {
   "cell_type": "code",
   "execution_count": 29,
   "metadata": {},
   "outputs": [
    {
     "data": {
      "text/plain": [
       "matlab.int8([])"
      ]
     },
     "execution_count": 29,
     "metadata": {},
     "output_type": "execute_result"
    }
   ],
   "source": [
    "matlab.int8([])"
   ]
  },
  {
   "cell_type": "markdown",
   "metadata": {},
   "source": [
    "`OpticalFlow` has 5 outputs"
   ]
  },
  {
   "cell_type": "code",
   "execution_count": 42,
   "metadata": {},
   "outputs": [
    {
     "ename": "ValueError",
     "evalue": "only a scalar struct can be returned from MATLAB",
     "output_type": "error",
     "traceback": [
      "\u001b[0;31m---------------------------------------------------------------------------\u001b[0m",
      "\u001b[0;31mValueError\u001b[0m                                Traceback (most recent call last)",
      "\u001b[0;32m<ipython-input-42-d3cc2a449629>\u001b[0m in \u001b[0;36m<module>\u001b[0;34m\u001b[0m\n\u001b[0;32m----> 1\u001b[0;31m \u001b[0mout\u001b[0m \u001b[0;34m=\u001b[0m \u001b[0meng\u001b[0m\u001b[0;34m.\u001b[0m\u001b[0mOpticalFlow\u001b[0m\u001b[0;34m(\u001b[0m\u001b[0mMovieName\u001b[0m\u001b[0;34m,\u001b[0m\u001b[0mBinaryMask\u001b[0m\u001b[0;34m,\u001b[0m\u001b[0mBoxSize\u001b[0m\u001b[0;34m,\u001b[0m\u001b[0mBlurSTD\u001b[0m\u001b[0;34m,\u001b[0m\u001b[0mArrowSize\u001b[0m\u001b[0;34m,\u001b[0m\u001b[0mscale\u001b[0m\u001b[0;34m,\u001b[0m\u001b[0mdt\u001b[0m\u001b[0;34m,\u001b[0m\u001b[0mnargout\u001b[0m\u001b[0;34m=\u001b[0m\u001b[0;36m5\u001b[0m\u001b[0;34m)\u001b[0m\u001b[0;34m\u001b[0m\u001b[0;34m\u001b[0m\u001b[0m\n\u001b[0m",
      "\u001b[0;32m~/anaconda3/envs/python36/lib/python3.6/site-packages/matlab/engine/matlabengine.py\u001b[0m in \u001b[0;36m__call__\u001b[0;34m(self, *args, **kwargs)\u001b[0m\n\u001b[1;32m     76\u001b[0m         \u001b[0;32melse\u001b[0m\u001b[0;34m:\u001b[0m\u001b[0;34m\u001b[0m\u001b[0;34m\u001b[0m\u001b[0m\n\u001b[1;32m     77\u001b[0m             return FutureResult(self._engine(), future, nargs, _stdout,\n\u001b[0;32m---> 78\u001b[0;31m                                 _stderr, feval=True).result()\n\u001b[0m\u001b[1;32m     79\u001b[0m \u001b[0;34m\u001b[0m\u001b[0m\n\u001b[1;32m     80\u001b[0m     \u001b[0;32mdef\u001b[0m \u001b[0m__validate_engine\u001b[0m\u001b[0;34m(\u001b[0m\u001b[0mself\u001b[0m\u001b[0;34m)\u001b[0m\u001b[0;34m:\u001b[0m\u001b[0;34m\u001b[0m\u001b[0;34m\u001b[0m\u001b[0m\n",
      "\u001b[0;32m~/anaconda3/envs/python36/lib/python3.6/site-packages/matlab/engine/futureresult.py\u001b[0m in \u001b[0;36mresult\u001b[0;34m(self, timeout)\u001b[0m\n\u001b[1;32m     66\u001b[0m                 \u001b[0;32mraise\u001b[0m \u001b[0mTypeError\u001b[0m\u001b[0;34m(\u001b[0m\u001b[0mpythonengine\u001b[0m\u001b[0;34m.\u001b[0m\u001b[0mgetMessage\u001b[0m\u001b[0;34m(\u001b[0m\u001b[0;34m'TimeoutCannotBeNegative'\u001b[0m\u001b[0;34m)\u001b[0m\u001b[0;34m)\u001b[0m\u001b[0;34m\u001b[0m\u001b[0;34m\u001b[0m\u001b[0m\n\u001b[1;32m     67\u001b[0m \u001b[0;34m\u001b[0m\u001b[0m\n\u001b[0;32m---> 68\u001b[0;31m         \u001b[0;32mreturn\u001b[0m \u001b[0mself\u001b[0m\u001b[0;34m.\u001b[0m\u001b[0m__future\u001b[0m\u001b[0;34m.\u001b[0m\u001b[0mresult\u001b[0m\u001b[0;34m(\u001b[0m\u001b[0mtimeout\u001b[0m\u001b[0;34m)\u001b[0m\u001b[0;34m\u001b[0m\u001b[0;34m\u001b[0m\u001b[0m\n\u001b[0m\u001b[1;32m     69\u001b[0m \u001b[0;34m\u001b[0m\u001b[0m\n\u001b[1;32m     70\u001b[0m     \u001b[0;32mdef\u001b[0m \u001b[0mcancel\u001b[0m\u001b[0;34m(\u001b[0m\u001b[0mself\u001b[0m\u001b[0;34m)\u001b[0m\u001b[0;34m:\u001b[0m\u001b[0;34m\u001b[0m\u001b[0;34m\u001b[0m\u001b[0m\n",
      "\u001b[0;32m~/anaconda3/envs/python36/lib/python3.6/site-packages/matlab/engine/fevalfuture.py\u001b[0m in \u001b[0;36mresult\u001b[0;34m(self, timeout)\u001b[0m\n\u001b[1;32m     80\u001b[0m                 \u001b[0;32mraise\u001b[0m \u001b[0mTimeoutError\u001b[0m\u001b[0;34m(\u001b[0m\u001b[0mpythonengine\u001b[0m\u001b[0;34m.\u001b[0m\u001b[0mgetMessage\u001b[0m\u001b[0;34m(\u001b[0m\u001b[0;34m'MatlabFunctionTimeout'\u001b[0m\u001b[0;34m)\u001b[0m\u001b[0;34m)\u001b[0m\u001b[0;34m\u001b[0m\u001b[0;34m\u001b[0m\u001b[0m\n\u001b[1;32m     81\u001b[0m \u001b[0;34m\u001b[0m\u001b[0m\n\u001b[0;32m---> 82\u001b[0;31m             \u001b[0mself\u001b[0m\u001b[0;34m.\u001b[0m\u001b[0m_result\u001b[0m \u001b[0;34m=\u001b[0m \u001b[0mpythonengine\u001b[0m\u001b[0;34m.\u001b[0m\u001b[0mgetFEvalResult\u001b[0m\u001b[0;34m(\u001b[0m\u001b[0mself\u001b[0m\u001b[0;34m.\u001b[0m\u001b[0m_future\u001b[0m\u001b[0;34m,\u001b[0m\u001b[0mself\u001b[0m\u001b[0;34m.\u001b[0m\u001b[0m_nargout\u001b[0m\u001b[0;34m,\u001b[0m \u001b[0;32mNone\u001b[0m\u001b[0;34m,\u001b[0m \u001b[0mout\u001b[0m\u001b[0;34m=\u001b[0m\u001b[0mself\u001b[0m\u001b[0;34m.\u001b[0m\u001b[0m_out\u001b[0m\u001b[0;34m,\u001b[0m \u001b[0merr\u001b[0m\u001b[0;34m=\u001b[0m\u001b[0mself\u001b[0m\u001b[0;34m.\u001b[0m\u001b[0m_err\u001b[0m\u001b[0;34m)\u001b[0m\u001b[0;34m\u001b[0m\u001b[0;34m\u001b[0m\u001b[0m\n\u001b[0m\u001b[1;32m     83\u001b[0m             \u001b[0mself\u001b[0m\u001b[0;34m.\u001b[0m\u001b[0m_retrieved\u001b[0m \u001b[0;34m=\u001b[0m \u001b[0;32mTrue\u001b[0m\u001b[0;34m\u001b[0m\u001b[0;34m\u001b[0m\u001b[0m\n\u001b[1;32m     84\u001b[0m             \u001b[0;32mreturn\u001b[0m \u001b[0mself\u001b[0m\u001b[0;34m.\u001b[0m\u001b[0m_result\u001b[0m\u001b[0;34m\u001b[0m\u001b[0;34m\u001b[0m\u001b[0m\n",
      "\u001b[0;31mValueError\u001b[0m: only a scalar struct can be returned from MATLAB"
     ]
    }
   ],
   "source": [
    "out = eng.OpticalFlow(MovieName,BinaryMask,BoxSize,BlurSTD,ArrowSize,scale,dt,nargout=5)"
   ]
  },
  {
   "cell_type": "markdown",
   "metadata": {},
   "source": [
    "Using `nargout` seems to produce an error. Output data types aren't compatible with engine passing to python. Would it be better to save to a file?"
   ]
  },
  {
   "cell_type": "code",
   "execution_count": 36,
   "metadata": {},
   "outputs": [
    {
     "data": {
      "text/plain": [
       "mlarray.double"
      ]
     },
     "execution_count": 36,
     "metadata": {},
     "output_type": "execute_result"
    }
   ],
   "source": [
    "type(out)"
   ]
  },
  {
   "cell_type": "markdown",
   "metadata": {},
   "source": [
    "The matlab function `csvwrite` saves arrays to `.csv` files. I will try to modify `OpticalFlow` to write data outputs to files."
   ]
  },
  {
   "cell_type": "markdown",
   "metadata": {},
   "source": [
    "# Test output function"
   ]
  },
  {
   "cell_type": "code",
   "execution_count": 52,
   "metadata": {},
   "outputs": [],
   "source": [
    "eng.OpticalFlowOutput('test2',MovieName,BinaryMask,BoxSize,BlurSTD,ArrowSize,scale,dt,nargout=0)"
   ]
  },
  {
   "cell_type": "markdown",
   "metadata": {},
   "source": [
    "Succesfully saved output data to csv files. It seems like they save in whatever the working directory is for the notebook."
   ]
  },
  {
   "cell_type": "markdown",
   "metadata": {},
   "source": [
    "# Read in test output files"
   ]
  },
  {
   "cell_type": "code",
   "execution_count": 45,
   "metadata": {},
   "outputs": [],
   "source": [
    "import numpy as np\n",
    "import pandas as pd"
   ]
  },
  {
   "cell_type": "code",
   "execution_count": 53,
   "metadata": {},
   "outputs": [
    {
     "data": {
      "text/plain": [
       "(40401, 1)"
      ]
     },
     "execution_count": 53,
     "metadata": {},
     "output_type": "execute_result"
    }
   ],
   "source": [
    "rawx = pd.read_csv('test2_X.csv',header=None)\n",
    "rawx.head()\n",
    "x = np.array(rawx)\n",
    "x.shape"
   ]
  },
  {
   "cell_type": "markdown",
   "metadata": {},
   "source": [
    "Based on running this function in matlab, I would only expect ~2600 rows."
   ]
  },
  {
   "cell_type": "code",
   "execution_count": 54,
   "metadata": {},
   "outputs": [
    {
     "data": {
      "text/plain": [
       "(40401, 166)"
      ]
     },
     "execution_count": 54,
     "metadata": {},
     "output_type": "execute_result"
    }
   ],
   "source": [
    "rawvx = pd.read_csv('test2_Vx.csv',header=None)\n",
    "vx = np.array(rawvx)\n",
    "vx.shape"
   ]
  },
  {
   "cell_type": "code",
   "execution_count": 51,
   "metadata": {},
   "outputs": [
    {
     "data": {
      "text/html": [
       "<div>\n",
       "<style scoped>\n",
       "    .dataframe tbody tr th:only-of-type {\n",
       "        vertical-align: middle;\n",
       "    }\n",
       "\n",
       "    .dataframe tbody tr th {\n",
       "        vertical-align: top;\n",
       "    }\n",
       "\n",
       "    .dataframe thead th {\n",
       "        text-align: right;\n",
       "    }\n",
       "</style>\n",
       "<table border=\"1\" class=\"dataframe\">\n",
       "  <thead>\n",
       "    <tr style=\"text-align: right;\">\n",
       "      <th></th>\n",
       "      <th>0</th>\n",
       "      <th>1</th>\n",
       "      <th>2</th>\n",
       "      <th>3</th>\n",
       "      <th>4</th>\n",
       "      <th>5</th>\n",
       "      <th>6</th>\n",
       "      <th>7</th>\n",
       "      <th>8</th>\n",
       "      <th>9</th>\n",
       "      <th>...</th>\n",
       "      <th>156</th>\n",
       "      <th>157</th>\n",
       "      <th>158</th>\n",
       "      <th>159</th>\n",
       "      <th>160</th>\n",
       "      <th>161</th>\n",
       "      <th>162</th>\n",
       "      <th>163</th>\n",
       "      <th>164</th>\n",
       "      <th>165</th>\n",
       "    </tr>\n",
       "  </thead>\n",
       "  <tbody>\n",
       "    <tr>\n",
       "      <th>0</th>\n",
       "      <td>0</td>\n",
       "      <td>0.026191</td>\n",
       "      <td>-0.031664</td>\n",
       "      <td>0.020631</td>\n",
       "      <td>-0.052106</td>\n",
       "      <td>-0.020458</td>\n",
       "      <td>0.006562</td>\n",
       "      <td>-0.037577</td>\n",
       "      <td>0.023255</td>\n",
       "      <td>0.005738</td>\n",
       "      <td>...</td>\n",
       "      <td>-0.645180</td>\n",
       "      <td>1.196100</td>\n",
       "      <td>0.403000</td>\n",
       "      <td>0.134300</td>\n",
       "      <td>-1.575700</td>\n",
       "      <td>1.264700</td>\n",
       "      <td>1.344400</td>\n",
       "      <td>-0.522450</td>\n",
       "      <td>-1.410900</td>\n",
       "      <td>1.196300</td>\n",
       "    </tr>\n",
       "    <tr>\n",
       "      <th>1</th>\n",
       "      <td>0</td>\n",
       "      <td>0.003324</td>\n",
       "      <td>-0.007919</td>\n",
       "      <td>0.000586</td>\n",
       "      <td>-0.004572</td>\n",
       "      <td>-0.003323</td>\n",
       "      <td>0.003327</td>\n",
       "      <td>-0.007001</td>\n",
       "      <td>0.003221</td>\n",
       "      <td>0.004370</td>\n",
       "      <td>...</td>\n",
       "      <td>-0.021795</td>\n",
       "      <td>0.040757</td>\n",
       "      <td>-0.004139</td>\n",
       "      <td>0.019235</td>\n",
       "      <td>-0.046742</td>\n",
       "      <td>0.045661</td>\n",
       "      <td>0.014661</td>\n",
       "      <td>-0.031069</td>\n",
       "      <td>-0.040504</td>\n",
       "      <td>0.035840</td>\n",
       "    </tr>\n",
       "    <tr>\n",
       "      <th>2</th>\n",
       "      <td>0</td>\n",
       "      <td>0.003037</td>\n",
       "      <td>-0.007645</td>\n",
       "      <td>0.000434</td>\n",
       "      <td>-0.004055</td>\n",
       "      <td>-0.003170</td>\n",
       "      <td>0.003270</td>\n",
       "      <td>-0.006595</td>\n",
       "      <td>0.002929</td>\n",
       "      <td>0.004490</td>\n",
       "      <td>...</td>\n",
       "      <td>-0.017896</td>\n",
       "      <td>0.033684</td>\n",
       "      <td>-0.009703</td>\n",
       "      <td>0.018522</td>\n",
       "      <td>-0.033342</td>\n",
       "      <td>0.036769</td>\n",
       "      <td>-0.006532</td>\n",
       "      <td>-0.028783</td>\n",
       "      <td>-0.029349</td>\n",
       "      <td>0.026410</td>\n",
       "    </tr>\n",
       "    <tr>\n",
       "      <th>3</th>\n",
       "      <td>0</td>\n",
       "      <td>0.002984</td>\n",
       "      <td>-0.007658</td>\n",
       "      <td>0.000492</td>\n",
       "      <td>-0.004084</td>\n",
       "      <td>-0.003207</td>\n",
       "      <td>0.003233</td>\n",
       "      <td>-0.006631</td>\n",
       "      <td>0.002929</td>\n",
       "      <td>0.004623</td>\n",
       "      <td>...</td>\n",
       "      <td>-0.018905</td>\n",
       "      <td>0.036036</td>\n",
       "      <td>-0.010215</td>\n",
       "      <td>0.019621</td>\n",
       "      <td>-0.035047</td>\n",
       "      <td>0.039157</td>\n",
       "      <td>-0.006001</td>\n",
       "      <td>-0.031385</td>\n",
       "      <td>-0.030332</td>\n",
       "      <td>0.027346</td>\n",
       "    </tr>\n",
       "    <tr>\n",
       "      <th>4</th>\n",
       "      <td>0</td>\n",
       "      <td>0.002930</td>\n",
       "      <td>-0.007673</td>\n",
       "      <td>0.000552</td>\n",
       "      <td>-0.004116</td>\n",
       "      <td>-0.003245</td>\n",
       "      <td>0.003195</td>\n",
       "      <td>-0.006670</td>\n",
       "      <td>0.002932</td>\n",
       "      <td>0.004763</td>\n",
       "      <td>...</td>\n",
       "      <td>-0.020041</td>\n",
       "      <td>0.038750</td>\n",
       "      <td>-0.010755</td>\n",
       "      <td>0.020953</td>\n",
       "      <td>-0.037020</td>\n",
       "      <td>0.041926</td>\n",
       "      <td>-0.004557</td>\n",
       "      <td>-0.034407</td>\n",
       "      <td>-0.031414</td>\n",
       "      <td>0.028379</td>\n",
       "    </tr>\n",
       "  </tbody>\n",
       "</table>\n",
       "<p>5 rows × 166 columns</p>\n",
       "</div>"
      ],
      "text/plain": [
       "   0         1         2         3         4         5         6         7    \\\n",
       "0    0  0.026191 -0.031664  0.020631 -0.052106 -0.020458  0.006562 -0.037577   \n",
       "1    0  0.003324 -0.007919  0.000586 -0.004572 -0.003323  0.003327 -0.007001   \n",
       "2    0  0.003037 -0.007645  0.000434 -0.004055 -0.003170  0.003270 -0.006595   \n",
       "3    0  0.002984 -0.007658  0.000492 -0.004084 -0.003207  0.003233 -0.006631   \n",
       "4    0  0.002930 -0.007673  0.000552 -0.004116 -0.003245  0.003195 -0.006670   \n",
       "\n",
       "        8         9      ...          156       157       158       159  \\\n",
       "0  0.023255  0.005738    ...    -0.645180  1.196100  0.403000  0.134300   \n",
       "1  0.003221  0.004370    ...    -0.021795  0.040757 -0.004139  0.019235   \n",
       "2  0.002929  0.004490    ...    -0.017896  0.033684 -0.009703  0.018522   \n",
       "3  0.002929  0.004623    ...    -0.018905  0.036036 -0.010215  0.019621   \n",
       "4  0.002932  0.004763    ...    -0.020041  0.038750 -0.010755  0.020953   \n",
       "\n",
       "        160       161       162       163       164       165  \n",
       "0 -1.575700  1.264700  1.344400 -0.522450 -1.410900  1.196300  \n",
       "1 -0.046742  0.045661  0.014661 -0.031069 -0.040504  0.035840  \n",
       "2 -0.033342  0.036769 -0.006532 -0.028783 -0.029349  0.026410  \n",
       "3 -0.035047  0.039157 -0.006001 -0.031385 -0.030332  0.027346  \n",
       "4 -0.037020  0.041926 -0.004557 -0.034407 -0.031414  0.028379  \n",
       "\n",
       "[5 rows x 166 columns]"
      ]
     },
     "execution_count": 51,
     "metadata": {},
     "output_type": "execute_result"
    }
   ],
   "source": [
    "rawvx.head()"
   ]
  },
  {
   "cell_type": "code",
   "execution_count": 55,
   "metadata": {},
   "outputs": [
    {
     "data": {
      "text/plain": [
       "15.53287197231834"
      ]
     },
     "execution_count": 55,
     "metadata": {},
     "output_type": "execute_result"
    }
   ],
   "source": [
    "40401/2601 "
   ]
  },
  {
   "cell_type": "code",
   "execution_count": 60,
   "metadata": {},
   "outputs": [
    {
     "data": {
      "text/plain": [
       "(40401, 166)"
      ]
     },
     "execution_count": 60,
     "metadata": {},
     "output_type": "execute_result"
    }
   ],
   "source": [
    "vx2 = np.genfromtxt('test2_Vx.csv')\n",
    "vx.shape"
   ]
  },
  {
   "cell_type": "markdown",
   "metadata": {},
   "source": [
    "The large number of rows does not appear to be a pandas related error."
   ]
  },
  {
   "cell_type": "markdown",
   "metadata": {},
   "source": [
    "From https://www.mathworks.com/help/matlab/matlab_external/redirect-standard-output-and-error-to-python.html\n",
    "```\n",
    "import matlab.engine\n",
    "eng = matlab.engine.start_matlab()\n",
    "import io\n",
    "out = io.StringIO()\n",
    "err = io.StringIO()\n",
    "ret = eng.dec2base(2**60,16,stdout=out,stderr=err)```"
   ]
  },
  {
   "cell_type": "code",
   "execution_count": 61,
   "metadata": {},
   "outputs": [],
   "source": [
    "import io"
   ]
  },
  {
   "cell_type": "code",
   "execution_count": 62,
   "metadata": {},
   "outputs": [],
   "source": [
    "out = io.StringIO()\n",
    "err = io.StringIO()"
   ]
  },
  {
   "cell_type": "code",
   "execution_count": 63,
   "metadata": {},
   "outputs": [],
   "source": [
    "eng.OpticalFlowOutput('test2',MovieName,BinaryMask,BoxSize,BlurSTD,ArrowSize,scale,dt,nargout=0,stdout=out,stderr=err)"
   ]
  },
  {
   "cell_type": "code",
   "execution_count": 66,
   "metadata": {},
   "outputs": [
    {
     "name": "stdout",
     "output_type": "stream",
     "text": [
      "       40401           1\n",
      "\n",
      "       40401           1\n",
      "\n",
      "       40401         166\n",
      "\n",
      "       40401         166\n",
      "\n",
      "\n"
     ]
    }
   ],
   "source": [
    "print(out.getvalue())"
   ]
  },
  {
   "cell_type": "code",
   "execution_count": 65,
   "metadata": {},
   "outputs": [
    {
     "name": "stdout",
     "output_type": "stream",
     "text": [
      "\n"
     ]
    }
   ],
   "source": [
    "print(err.getvalue())"
   ]
  },
  {
   "cell_type": "markdown",
   "metadata": {},
   "source": [
    "It seems like the number of rows may be correct...? The printout of array size from within Matlab is the same as the number of rows in the array after import to python."
   ]
  },
  {
   "cell_type": "markdown",
   "metadata": {},
   "source": [
    "# Tidy data"
   ]
  },
  {
   "cell_type": "markdown",
   "metadata": {},
   "source": [
    "Files `*_X.csv` and `*_Y.csv` contain the x and y positions of the velocity vectors. Files `*_Vx.csv` and `*_Vy.csv` are the velocity vectors in the form of a MxN matrix where M is the number of velocity vectors and N is the number of timepoints."
   ]
  },
  {
   "cell_type": "code",
   "execution_count": 67,
   "metadata": {},
   "outputs": [],
   "source": [
    "x = pd.read_csv('test2_X.csv',header=None)\n",
    "y = pd.read_csv('test2_Y.csv',header=None)\n",
    "vx = pd.read_csv('test2_Vx.csv',header=None)\n",
    "vy = pd.read_csv('test2_Vy.csv',header=None)"
   ]
  },
  {
   "cell_type": "code",
   "execution_count": 85,
   "metadata": {},
   "outputs": [
    {
     "data": {
      "text/html": [
       "<div>\n",
       "<style scoped>\n",
       "    .dataframe tbody tr th:only-of-type {\n",
       "        vertical-align: middle;\n",
       "    }\n",
       "\n",
       "    .dataframe tbody tr th {\n",
       "        vertical-align: top;\n",
       "    }\n",
       "\n",
       "    .dataframe thead th {\n",
       "        text-align: right;\n",
       "    }\n",
       "</style>\n",
       "<table border=\"1\" class=\"dataframe\">\n",
       "  <thead>\n",
       "    <tr style=\"text-align: right;\">\n",
       "      <th></th>\n",
       "      <th>x</th>\n",
       "      <th>y</th>\n",
       "    </tr>\n",
       "  </thead>\n",
       "  <tbody>\n",
       "    <tr>\n",
       "      <th>0</th>\n",
       "      <td>11</td>\n",
       "      <td>11</td>\n",
       "    </tr>\n",
       "    <tr>\n",
       "      <th>1</th>\n",
       "      <td>11</td>\n",
       "      <td>16</td>\n",
       "    </tr>\n",
       "    <tr>\n",
       "      <th>2</th>\n",
       "      <td>11</td>\n",
       "      <td>21</td>\n",
       "    </tr>\n",
       "    <tr>\n",
       "      <th>3</th>\n",
       "      <td>11</td>\n",
       "      <td>26</td>\n",
       "    </tr>\n",
       "    <tr>\n",
       "      <th>4</th>\n",
       "      <td>11</td>\n",
       "      <td>31</td>\n",
       "    </tr>\n",
       "  </tbody>\n",
       "</table>\n",
       "</div>"
      ],
      "text/plain": [
       "    x   y\n",
       "0  11  11\n",
       "1  11  16\n",
       "2  11  21\n",
       "3  11  26\n",
       "4  11  31"
      ]
     },
     "execution_count": 85,
     "metadata": {},
     "output_type": "execute_result"
    }
   ],
   "source": [
    "xy = pd.concat([x.rename(columns={0:'x'}),\n",
    "                y.rename(columns={0:'y'})\n",
    "                ],axis=1)\n",
    "xy.head()"
   ]
  },
  {
   "cell_type": "code",
   "execution_count": 84,
   "metadata": {},
   "outputs": [
    {
     "data": {
      "text/html": [
       "<div>\n",
       "<style scoped>\n",
       "    .dataframe tbody tr th:only-of-type {\n",
       "        vertical-align: middle;\n",
       "    }\n",
       "\n",
       "    .dataframe tbody tr th {\n",
       "        vertical-align: top;\n",
       "    }\n",
       "\n",
       "    .dataframe thead th {\n",
       "        text-align: right;\n",
       "    }\n",
       "</style>\n",
       "<table border=\"1\" class=\"dataframe\">\n",
       "  <thead>\n",
       "    <tr style=\"text-align: right;\">\n",
       "      <th></th>\n",
       "      <th>frame</th>\n",
       "      <th>vx</th>\n",
       "    </tr>\n",
       "  </thead>\n",
       "  <tbody>\n",
       "    <tr>\n",
       "      <th>0</th>\n",
       "      <td>0</td>\n",
       "      <td>0.000000</td>\n",
       "    </tr>\n",
       "    <tr>\n",
       "      <th>1</th>\n",
       "      <td>0</td>\n",
       "      <td>0.000000</td>\n",
       "    </tr>\n",
       "    <tr>\n",
       "      <th>2</th>\n",
       "      <td>0</td>\n",
       "      <td>0.000000</td>\n",
       "    </tr>\n",
       "    <tr>\n",
       "      <th>3</th>\n",
       "      <td>0</td>\n",
       "      <td>0.000000</td>\n",
       "    </tr>\n",
       "    <tr>\n",
       "      <th>4</th>\n",
       "      <td>0</td>\n",
       "      <td>0.000000</td>\n",
       "    </tr>\n",
       "    <tr>\n",
       "      <th>5</th>\n",
       "      <td>0</td>\n",
       "      <td>0.000000</td>\n",
       "    </tr>\n",
       "    <tr>\n",
       "      <th>6</th>\n",
       "      <td>0</td>\n",
       "      <td>0.000000</td>\n",
       "    </tr>\n",
       "    <tr>\n",
       "      <th>7</th>\n",
       "      <td>0</td>\n",
       "      <td>0.000000</td>\n",
       "    </tr>\n",
       "    <tr>\n",
       "      <th>8</th>\n",
       "      <td>0</td>\n",
       "      <td>0.000000</td>\n",
       "    </tr>\n",
       "    <tr>\n",
       "      <th>9</th>\n",
       "      <td>0</td>\n",
       "      <td>0.000000</td>\n",
       "    </tr>\n",
       "    <tr>\n",
       "      <th>10</th>\n",
       "      <td>0</td>\n",
       "      <td>0.000000</td>\n",
       "    </tr>\n",
       "    <tr>\n",
       "      <th>11</th>\n",
       "      <td>0</td>\n",
       "      <td>0.000000</td>\n",
       "    </tr>\n",
       "    <tr>\n",
       "      <th>12</th>\n",
       "      <td>0</td>\n",
       "      <td>0.000000</td>\n",
       "    </tr>\n",
       "    <tr>\n",
       "      <th>13</th>\n",
       "      <td>0</td>\n",
       "      <td>0.000000</td>\n",
       "    </tr>\n",
       "    <tr>\n",
       "      <th>14</th>\n",
       "      <td>0</td>\n",
       "      <td>0.000000</td>\n",
       "    </tr>\n",
       "    <tr>\n",
       "      <th>15</th>\n",
       "      <td>0</td>\n",
       "      <td>0.000000</td>\n",
       "    </tr>\n",
       "    <tr>\n",
       "      <th>16</th>\n",
       "      <td>0</td>\n",
       "      <td>0.000000</td>\n",
       "    </tr>\n",
       "    <tr>\n",
       "      <th>17</th>\n",
       "      <td>0</td>\n",
       "      <td>0.000000</td>\n",
       "    </tr>\n",
       "    <tr>\n",
       "      <th>18</th>\n",
       "      <td>0</td>\n",
       "      <td>0.000000</td>\n",
       "    </tr>\n",
       "    <tr>\n",
       "      <th>19</th>\n",
       "      <td>0</td>\n",
       "      <td>0.000000</td>\n",
       "    </tr>\n",
       "    <tr>\n",
       "      <th>20</th>\n",
       "      <td>0</td>\n",
       "      <td>0.000000</td>\n",
       "    </tr>\n",
       "    <tr>\n",
       "      <th>21</th>\n",
       "      <td>0</td>\n",
       "      <td>0.000000</td>\n",
       "    </tr>\n",
       "    <tr>\n",
       "      <th>22</th>\n",
       "      <td>0</td>\n",
       "      <td>0.000000</td>\n",
       "    </tr>\n",
       "    <tr>\n",
       "      <th>23</th>\n",
       "      <td>0</td>\n",
       "      <td>0.000000</td>\n",
       "    </tr>\n",
       "    <tr>\n",
       "      <th>24</th>\n",
       "      <td>0</td>\n",
       "      <td>0.000000</td>\n",
       "    </tr>\n",
       "    <tr>\n",
       "      <th>25</th>\n",
       "      <td>0</td>\n",
       "      <td>0.000000</td>\n",
       "    </tr>\n",
       "    <tr>\n",
       "      <th>26</th>\n",
       "      <td>0</td>\n",
       "      <td>0.000000</td>\n",
       "    </tr>\n",
       "    <tr>\n",
       "      <th>27</th>\n",
       "      <td>0</td>\n",
       "      <td>0.000000</td>\n",
       "    </tr>\n",
       "    <tr>\n",
       "      <th>28</th>\n",
       "      <td>0</td>\n",
       "      <td>0.000000</td>\n",
       "    </tr>\n",
       "    <tr>\n",
       "      <th>29</th>\n",
       "      <td>0</td>\n",
       "      <td>0.000000</td>\n",
       "    </tr>\n",
       "    <tr>\n",
       "      <th>...</th>\n",
       "      <td>...</td>\n",
       "      <td>...</td>\n",
       "    </tr>\n",
       "    <tr>\n",
       "      <th>6706536</th>\n",
       "      <td>165</td>\n",
       "      <td>-0.004876</td>\n",
       "    </tr>\n",
       "    <tr>\n",
       "      <th>6706537</th>\n",
       "      <td>165</td>\n",
       "      <td>-0.004812</td>\n",
       "    </tr>\n",
       "    <tr>\n",
       "      <th>6706538</th>\n",
       "      <td>165</td>\n",
       "      <td>-0.004751</td>\n",
       "    </tr>\n",
       "    <tr>\n",
       "      <th>6706539</th>\n",
       "      <td>165</td>\n",
       "      <td>-0.004692</td>\n",
       "    </tr>\n",
       "    <tr>\n",
       "      <th>6706540</th>\n",
       "      <td>165</td>\n",
       "      <td>-0.004635</td>\n",
       "    </tr>\n",
       "    <tr>\n",
       "      <th>6706541</th>\n",
       "      <td>165</td>\n",
       "      <td>-0.004581</td>\n",
       "    </tr>\n",
       "    <tr>\n",
       "      <th>6706542</th>\n",
       "      <td>165</td>\n",
       "      <td>-0.004528</td>\n",
       "    </tr>\n",
       "    <tr>\n",
       "      <th>6706543</th>\n",
       "      <td>165</td>\n",
       "      <td>-0.004477</td>\n",
       "    </tr>\n",
       "    <tr>\n",
       "      <th>6706544</th>\n",
       "      <td>165</td>\n",
       "      <td>-0.004428</td>\n",
       "    </tr>\n",
       "    <tr>\n",
       "      <th>6706545</th>\n",
       "      <td>165</td>\n",
       "      <td>-0.004381</td>\n",
       "    </tr>\n",
       "    <tr>\n",
       "      <th>6706546</th>\n",
       "      <td>165</td>\n",
       "      <td>-0.004335</td>\n",
       "    </tr>\n",
       "    <tr>\n",
       "      <th>6706547</th>\n",
       "      <td>165</td>\n",
       "      <td>-0.004292</td>\n",
       "    </tr>\n",
       "    <tr>\n",
       "      <th>6706548</th>\n",
       "      <td>165</td>\n",
       "      <td>-0.004249</td>\n",
       "    </tr>\n",
       "    <tr>\n",
       "      <th>6706549</th>\n",
       "      <td>165</td>\n",
       "      <td>-0.004208</td>\n",
       "    </tr>\n",
       "    <tr>\n",
       "      <th>6706550</th>\n",
       "      <td>165</td>\n",
       "      <td>-0.004168</td>\n",
       "    </tr>\n",
       "    <tr>\n",
       "      <th>6706551</th>\n",
       "      <td>165</td>\n",
       "      <td>-0.004130</td>\n",
       "    </tr>\n",
       "    <tr>\n",
       "      <th>6706552</th>\n",
       "      <td>165</td>\n",
       "      <td>-0.004093</td>\n",
       "    </tr>\n",
       "    <tr>\n",
       "      <th>6706553</th>\n",
       "      <td>165</td>\n",
       "      <td>-0.004057</td>\n",
       "    </tr>\n",
       "    <tr>\n",
       "      <th>6706554</th>\n",
       "      <td>165</td>\n",
       "      <td>-0.004022</td>\n",
       "    </tr>\n",
       "    <tr>\n",
       "      <th>6706555</th>\n",
       "      <td>165</td>\n",
       "      <td>-0.003989</td>\n",
       "    </tr>\n",
       "    <tr>\n",
       "      <th>6706556</th>\n",
       "      <td>165</td>\n",
       "      <td>-0.003956</td>\n",
       "    </tr>\n",
       "    <tr>\n",
       "      <th>6706557</th>\n",
       "      <td>165</td>\n",
       "      <td>-0.003925</td>\n",
       "    </tr>\n",
       "    <tr>\n",
       "      <th>6706558</th>\n",
       "      <td>165</td>\n",
       "      <td>-0.003894</td>\n",
       "    </tr>\n",
       "    <tr>\n",
       "      <th>6706559</th>\n",
       "      <td>165</td>\n",
       "      <td>-0.003865</td>\n",
       "    </tr>\n",
       "    <tr>\n",
       "      <th>6706560</th>\n",
       "      <td>165</td>\n",
       "      <td>-0.003836</td>\n",
       "    </tr>\n",
       "    <tr>\n",
       "      <th>6706561</th>\n",
       "      <td>165</td>\n",
       "      <td>-0.003808</td>\n",
       "    </tr>\n",
       "    <tr>\n",
       "      <th>6706562</th>\n",
       "      <td>165</td>\n",
       "      <td>-0.003781</td>\n",
       "    </tr>\n",
       "    <tr>\n",
       "      <th>6706563</th>\n",
       "      <td>165</td>\n",
       "      <td>-0.003755</td>\n",
       "    </tr>\n",
       "    <tr>\n",
       "      <th>6706564</th>\n",
       "      <td>165</td>\n",
       "      <td>-0.003730</td>\n",
       "    </tr>\n",
       "    <tr>\n",
       "      <th>6706565</th>\n",
       "      <td>165</td>\n",
       "      <td>-0.009380</td>\n",
       "    </tr>\n",
       "  </tbody>\n",
       "</table>\n",
       "<p>6706566 rows × 2 columns</p>\n",
       "</div>"
      ],
      "text/plain": [
       "         frame        vx\n",
       "0            0  0.000000\n",
       "1            0  0.000000\n",
       "2            0  0.000000\n",
       "3            0  0.000000\n",
       "4            0  0.000000\n",
       "5            0  0.000000\n",
       "6            0  0.000000\n",
       "7            0  0.000000\n",
       "8            0  0.000000\n",
       "9            0  0.000000\n",
       "10           0  0.000000\n",
       "11           0  0.000000\n",
       "12           0  0.000000\n",
       "13           0  0.000000\n",
       "14           0  0.000000\n",
       "15           0  0.000000\n",
       "16           0  0.000000\n",
       "17           0  0.000000\n",
       "18           0  0.000000\n",
       "19           0  0.000000\n",
       "20           0  0.000000\n",
       "21           0  0.000000\n",
       "22           0  0.000000\n",
       "23           0  0.000000\n",
       "24           0  0.000000\n",
       "25           0  0.000000\n",
       "26           0  0.000000\n",
       "27           0  0.000000\n",
       "28           0  0.000000\n",
       "29           0  0.000000\n",
       "...        ...       ...\n",
       "6706536    165 -0.004876\n",
       "6706537    165 -0.004812\n",
       "6706538    165 -0.004751\n",
       "6706539    165 -0.004692\n",
       "6706540    165 -0.004635\n",
       "6706541    165 -0.004581\n",
       "6706542    165 -0.004528\n",
       "6706543    165 -0.004477\n",
       "6706544    165 -0.004428\n",
       "6706545    165 -0.004381\n",
       "6706546    165 -0.004335\n",
       "6706547    165 -0.004292\n",
       "6706548    165 -0.004249\n",
       "6706549    165 -0.004208\n",
       "6706550    165 -0.004168\n",
       "6706551    165 -0.004130\n",
       "6706552    165 -0.004093\n",
       "6706553    165 -0.004057\n",
       "6706554    165 -0.004022\n",
       "6706555    165 -0.003989\n",
       "6706556    165 -0.003956\n",
       "6706557    165 -0.003925\n",
       "6706558    165 -0.003894\n",
       "6706559    165 -0.003865\n",
       "6706560    165 -0.003836\n",
       "6706561    165 -0.003808\n",
       "6706562    165 -0.003781\n",
       "6706563    165 -0.003755\n",
       "6706564    165 -0.003730\n",
       "6706565    165 -0.009380\n",
       "\n",
       "[6706566 rows x 2 columns]"
      ]
     },
     "execution_count": 84,
     "metadata": {},
     "output_type": "execute_result"
    }
   ],
   "source": [
    "vx.melt().rename(columns={'variable':'frame','value':'vx'})"
   ]
  },
  {
   "cell_type": "code",
   "execution_count": 90,
   "metadata": {},
   "outputs": [],
   "source": [
    "vxvy = pd.concat([vx.melt().rename(columns={'value':'vx'}).drop(columns=['variable']),\n",
    "                  vy.melt().rename(columns={'variable':'frame','value':'vy'})\n",
    "                 ],axis=1)"
   ]
  },
  {
   "cell_type": "code",
   "execution_count": 92,
   "metadata": {},
   "outputs": [
    {
     "data": {
      "text/html": [
       "<div>\n",
       "<style scoped>\n",
       "    .dataframe tbody tr th:only-of-type {\n",
       "        vertical-align: middle;\n",
       "    }\n",
       "\n",
       "    .dataframe tbody tr th {\n",
       "        vertical-align: top;\n",
       "    }\n",
       "\n",
       "    .dataframe thead th {\n",
       "        text-align: right;\n",
       "    }\n",
       "</style>\n",
       "<table border=\"1\" class=\"dataframe\">\n",
       "  <thead>\n",
       "    <tr style=\"text-align: right;\">\n",
       "      <th></th>\n",
       "      <th>vx</th>\n",
       "      <th>frame</th>\n",
       "      <th>vy</th>\n",
       "    </tr>\n",
       "  </thead>\n",
       "  <tbody>\n",
       "    <tr>\n",
       "      <th>0</th>\n",
       "      <td>0.0</td>\n",
       "      <td>0</td>\n",
       "      <td>0.0</td>\n",
       "    </tr>\n",
       "    <tr>\n",
       "      <th>1</th>\n",
       "      <td>0.0</td>\n",
       "      <td>0</td>\n",
       "      <td>0.0</td>\n",
       "    </tr>\n",
       "    <tr>\n",
       "      <th>2</th>\n",
       "      <td>0.0</td>\n",
       "      <td>0</td>\n",
       "      <td>0.0</td>\n",
       "    </tr>\n",
       "    <tr>\n",
       "      <th>3</th>\n",
       "      <td>0.0</td>\n",
       "      <td>0</td>\n",
       "      <td>0.0</td>\n",
       "    </tr>\n",
       "    <tr>\n",
       "      <th>4</th>\n",
       "      <td>0.0</td>\n",
       "      <td>0</td>\n",
       "      <td>0.0</td>\n",
       "    </tr>\n",
       "  </tbody>\n",
       "</table>\n",
       "</div>"
      ],
      "text/plain": [
       "    vx  frame   vy\n",
       "0  0.0      0  0.0\n",
       "1  0.0      0  0.0\n",
       "2  0.0      0  0.0\n",
       "3  0.0      0  0.0\n",
       "4  0.0      0  0.0"
      ]
     },
     "execution_count": 92,
     "metadata": {},
     "output_type": "execute_result"
    }
   ],
   "source": [
    "vxvy.head()"
   ]
  },
  {
   "cell_type": "code",
   "execution_count": 95,
   "metadata": {},
   "outputs": [
    {
     "data": {
      "text/html": [
       "<div>\n",
       "<style scoped>\n",
       "    .dataframe tbody tr th:only-of-type {\n",
       "        vertical-align: middle;\n",
       "    }\n",
       "\n",
       "    .dataframe tbody tr th {\n",
       "        vertical-align: top;\n",
       "    }\n",
       "\n",
       "    .dataframe thead th {\n",
       "        text-align: right;\n",
       "    }\n",
       "</style>\n",
       "<table border=\"1\" class=\"dataframe\">\n",
       "  <thead>\n",
       "    <tr style=\"text-align: right;\">\n",
       "      <th></th>\n",
       "      <th>vx</th>\n",
       "      <th>frame</th>\n",
       "      <th>vy</th>\n",
       "      <th>x</th>\n",
       "      <th>y</th>\n",
       "    </tr>\n",
       "  </thead>\n",
       "  <tbody>\n",
       "    <tr>\n",
       "      <th>0</th>\n",
       "      <td>0.0</td>\n",
       "      <td>0</td>\n",
       "      <td>0.0</td>\n",
       "      <td>11</td>\n",
       "      <td>11</td>\n",
       "    </tr>\n",
       "    <tr>\n",
       "      <th>1</th>\n",
       "      <td>0.0</td>\n",
       "      <td>0</td>\n",
       "      <td>0.0</td>\n",
       "      <td>11</td>\n",
       "      <td>11</td>\n",
       "    </tr>\n",
       "    <tr>\n",
       "      <th>2</th>\n",
       "      <td>0.0</td>\n",
       "      <td>0</td>\n",
       "      <td>0.0</td>\n",
       "      <td>11</td>\n",
       "      <td>11</td>\n",
       "    </tr>\n",
       "    <tr>\n",
       "      <th>3</th>\n",
       "      <td>0.0</td>\n",
       "      <td>0</td>\n",
       "      <td>0.0</td>\n",
       "      <td>11</td>\n",
       "      <td>11</td>\n",
       "    </tr>\n",
       "    <tr>\n",
       "      <th>4</th>\n",
       "      <td>0.0</td>\n",
       "      <td>0</td>\n",
       "      <td>0.0</td>\n",
       "      <td>11</td>\n",
       "      <td>11</td>\n",
       "    </tr>\n",
       "  </tbody>\n",
       "</table>\n",
       "</div>"
      ],
      "text/plain": [
       "    vx  frame   vy   x   y\n",
       "0  0.0      0  0.0  11  11\n",
       "1  0.0      0  0.0  11  11\n",
       "2  0.0      0  0.0  11  11\n",
       "3  0.0      0  0.0  11  11\n",
       "4  0.0      0  0.0  11  11"
      ]
     },
     "execution_count": 95,
     "metadata": {},
     "output_type": "execute_result"
    }
   ],
   "source": [
    "vectors = vxvy.merge(xy,left_on='frame',right_index=True)\n",
    "vectors.head()"
   ]
  },
  {
   "cell_type": "markdown",
   "metadata": {},
   "source": [
    "The DataFrame `vectors` is in an appropriate tidy format, but unfortunately functions that can plot quiver plots do not accept pandas dataframes as an input. \n",
    "\n",
    "Data need to be cast into the following form:\n",
    ">x and y are 1d arrays defining an *evenly spaced* grid.  \n",
    "u and v are 2d arrays (shape [y,x]) giving velocities."
   ]
  },
  {
   "cell_type": "markdown",
   "metadata": {},
   "source": [
    "x and y can be created using `np.meshgrid` with the unique values in `vectors['x']` and `vectors['y']`"
   ]
  },
  {
   "cell_type": "markdown",
   "metadata": {},
   "source": [
    "## Test tidy dataframe utility function"
   ]
  },
  {
   "cell_type": "code",
   "execution_count": 2,
   "metadata": {},
   "outputs": [],
   "source": [
    "from imp import reload\n",
    "import gbeflow"
   ]
  },
  {
   "cell_type": "code",
   "execution_count": 6,
   "metadata": {},
   "outputs": [
    {
     "data": {
      "text/plain": [
       "<module 'gbeflow' from '/Users/morganschwartz/Code/germband-extension/gbeflow/__init__.py'>"
      ]
     },
     "execution_count": 6,
     "metadata": {},
     "output_type": "execute_result"
    }
   ],
   "source": [
    "reload(gbeflow)"
   ]
  },
  {
   "cell_type": "code",
   "execution_count": 7,
   "metadata": {},
   "outputs": [],
   "source": [
    "vxvy = gbeflow.tidy_vector_data('test2')"
   ]
  },
  {
   "cell_type": "code",
   "execution_count": 8,
   "metadata": {},
   "outputs": [
    {
     "data": {
      "text/html": [
       "<div>\n",
       "<style scoped>\n",
       "    .dataframe tbody tr th:only-of-type {\n",
       "        vertical-align: middle;\n",
       "    }\n",
       "\n",
       "    .dataframe tbody tr th {\n",
       "        vertical-align: top;\n",
       "    }\n",
       "\n",
       "    .dataframe thead th {\n",
       "        text-align: right;\n",
       "    }\n",
       "</style>\n",
       "<table border=\"1\" class=\"dataframe\">\n",
       "  <thead>\n",
       "    <tr style=\"text-align: right;\">\n",
       "      <th></th>\n",
       "      <th>vx</th>\n",
       "      <th>frame</th>\n",
       "      <th>vy</th>\n",
       "      <th>x</th>\n",
       "      <th>y</th>\n",
       "    </tr>\n",
       "  </thead>\n",
       "  <tbody>\n",
       "    <tr>\n",
       "      <th>0</th>\n",
       "      <td>0.0</td>\n",
       "      <td>0</td>\n",
       "      <td>0.0</td>\n",
       "      <td>11</td>\n",
       "      <td>11</td>\n",
       "    </tr>\n",
       "    <tr>\n",
       "      <th>1</th>\n",
       "      <td>0.0</td>\n",
       "      <td>0</td>\n",
       "      <td>0.0</td>\n",
       "      <td>11</td>\n",
       "      <td>11</td>\n",
       "    </tr>\n",
       "    <tr>\n",
       "      <th>2</th>\n",
       "      <td>0.0</td>\n",
       "      <td>0</td>\n",
       "      <td>0.0</td>\n",
       "      <td>11</td>\n",
       "      <td>11</td>\n",
       "    </tr>\n",
       "    <tr>\n",
       "      <th>3</th>\n",
       "      <td>0.0</td>\n",
       "      <td>0</td>\n",
       "      <td>0.0</td>\n",
       "      <td>11</td>\n",
       "      <td>11</td>\n",
       "    </tr>\n",
       "    <tr>\n",
       "      <th>4</th>\n",
       "      <td>0.0</td>\n",
       "      <td>0</td>\n",
       "      <td>0.0</td>\n",
       "      <td>11</td>\n",
       "      <td>11</td>\n",
       "    </tr>\n",
       "  </tbody>\n",
       "</table>\n",
       "</div>"
      ],
      "text/plain": [
       "    vx  frame   vy   x   y\n",
       "0  0.0      0  0.0  11  11\n",
       "1  0.0      0  0.0  11  11\n",
       "2  0.0      0  0.0  11  11\n",
       "3  0.0      0  0.0  11  11\n",
       "4  0.0      0  0.0  11  11"
      ]
     },
     "execution_count": 8,
     "metadata": {},
     "output_type": "execute_result"
    }
   ],
   "source": [
    "vxvy.head()"
   ]
  }
 ],
 "metadata": {
  "kernelspec": {
   "display_name": "Python [conda env:python36]",
   "language": "python",
   "name": "conda-env-python36-py"
  },
  "language_info": {
   "codemirror_mode": {
    "name": "ipython",
    "version": 3
   },
   "file_extension": ".py",
   "mimetype": "text/x-python",
   "name": "python",
   "nbconvert_exporter": "python",
   "pygments_lexer": "ipython3",
   "version": "3.6.7"
  }
 },
 "nbformat": 4,
 "nbformat_minor": 2
}
