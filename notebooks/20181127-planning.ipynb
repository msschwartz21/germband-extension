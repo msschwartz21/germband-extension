{
 "cells": [
  {
   "cell_type": "markdown",
   "metadata": {},
   "source": [
    "# Next steps\n",
    "- Confirm synthetic point accuracy after getting $\\Delta t$ from Zsuzsa\n",
    "- Develop alignment system that will support direct comparison of tracks\n",
    "    - The pre-alignment procedure should lead to each embryo positioned with its AP axis parallel to the horizonal axis of the image\n",
    "    - In this case it may be sufficient to just translate each track so that it starts at the origin and use that for comparison on a qualitative level\n",
    "- Also need an alignment system that supports temporal alignment\n",
    "    - Mesoderm invagination seems like a potential global marker, but I need to implement a system to either detect or collect user input about that timepoint\n",
    "- Other metrics?\n",
    "    - Rolling calculation of velocity?\n",
    "    - Select benchmark time point, e.g. after 20mins the germband has extended x distance"
   ]
  },
  {
   "cell_type": "markdown",
   "metadata": {},
   "source": [
    "# Test optical flow on H2a-gfp data"
   ]
  }
 ],
 "metadata": {
  "kernelspec": {
   "display_name": "Python [conda env:python36]",
   "language": "python",
   "name": "conda-env-python36-py"
  },
  "language_info": {
   "codemirror_mode": {
    "name": "ipython",
    "version": 3
   },
   "file_extension": ".py",
   "mimetype": "text/x-python",
   "name": "python",
   "nbconvert_exporter": "python",
   "pygments_lexer": "ipython3",
   "version": "3.6.6"
  }
 },
 "nbformat": 4,
 "nbformat_minor": 2
}
